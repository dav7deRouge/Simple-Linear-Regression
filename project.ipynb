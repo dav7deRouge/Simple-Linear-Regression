{
 "cells": [
  {
   "cell_type": "markdown",
   "metadata": {},
   "source": [
    "# Simple Linear Regression Project\n",
    "In this project the dataset contained in the .csv file \"Salary_Data.csv\" will be used; it's made of 30 observations and 2 columns: Salary (the target variable I want to predict) and YearsExperience (the only predictor variable available). \n",
    "\n",
    "In these first lines I'm going to load the dataset and the required libraries."
   ]
  },
  {
   "cell_type": "code",
   "execution_count": 31,
   "metadata": {},
   "outputs": [],
   "source": [
    "# Libraries\n",
    "import pandas as pd\n",
    "import numpy as np\n",
    "from scipy import stats\n",
    "from sklearn.linear_model import LinearRegression\n",
    "from sklearn.model_selection import train_test_split\n",
    "from sklearn.metrics import r2_score, mean_squared_error\n",
    "from matplotlib import pyplot as plt\n",
    "import seaborn as sns"
   ]
  },
  {
   "cell_type": "code",
   "execution_count": 32,
   "metadata": {},
   "outputs": [
    {
     "data": {
      "text/html": [
       "<div>\n",
       "<style scoped>\n",
       "    .dataframe tbody tr th:only-of-type {\n",
       "        vertical-align: middle;\n",
       "    }\n",
       "\n",
       "    .dataframe tbody tr th {\n",
       "        vertical-align: top;\n",
       "    }\n",
       "\n",
       "    .dataframe thead th {\n",
       "        text-align: right;\n",
       "    }\n",
       "</style>\n",
       "<table border=\"1\" class=\"dataframe\">\n",
       "  <thead>\n",
       "    <tr style=\"text-align: right;\">\n",
       "      <th></th>\n",
       "      <th>YearsExperience</th>\n",
       "      <th>Salary</th>\n",
       "    </tr>\n",
       "  </thead>\n",
       "  <tbody>\n",
       "    <tr>\n",
       "      <th>0</th>\n",
       "      <td>1.1</td>\n",
       "      <td>39343.0</td>\n",
       "    </tr>\n",
       "    <tr>\n",
       "      <th>1</th>\n",
       "      <td>1.3</td>\n",
       "      <td>46205.0</td>\n",
       "    </tr>\n",
       "    <tr>\n",
       "      <th>2</th>\n",
       "      <td>1.5</td>\n",
       "      <td>37731.0</td>\n",
       "    </tr>\n",
       "    <tr>\n",
       "      <th>3</th>\n",
       "      <td>2.0</td>\n",
       "      <td>43525.0</td>\n",
       "    </tr>\n",
       "    <tr>\n",
       "      <th>4</th>\n",
       "      <td>2.2</td>\n",
       "      <td>39891.0</td>\n",
       "    </tr>\n",
       "  </tbody>\n",
       "</table>\n",
       "</div>"
      ],
      "text/plain": [
       "   YearsExperience   Salary\n",
       "0              1.1  39343.0\n",
       "1              1.3  46205.0\n",
       "2              1.5  37731.0\n",
       "3              2.0  43525.0\n",
       "4              2.2  39891.0"
      ]
     },
     "execution_count": 32,
     "metadata": {},
     "output_type": "execute_result"
    }
   ],
   "source": [
    "data = pd.read_csv(\"Salary_Data.csv\")\n",
    "data.head()"
   ]
  },
  {
   "cell_type": "markdown",
   "metadata": {},
   "source": [
    "## Exploratory analysis of the data\n",
    "In this section I'm going to understand more the data I'm working on, trying to extrapolate as much crucial informations I can."
   ]
  },
  {
   "cell_type": "code",
   "execution_count": 33,
   "metadata": {},
   "outputs": [
    {
     "data": {
      "text/html": [
       "<div>\n",
       "<style scoped>\n",
       "    .dataframe tbody tr th:only-of-type {\n",
       "        vertical-align: middle;\n",
       "    }\n",
       "\n",
       "    .dataframe tbody tr th {\n",
       "        vertical-align: top;\n",
       "    }\n",
       "\n",
       "    .dataframe thead th {\n",
       "        text-align: right;\n",
       "    }\n",
       "</style>\n",
       "<table border=\"1\" class=\"dataframe\">\n",
       "  <thead>\n",
       "    <tr style=\"text-align: right;\">\n",
       "      <th></th>\n",
       "      <th>YearsExperience</th>\n",
       "      <th>Salary</th>\n",
       "    </tr>\n",
       "  </thead>\n",
       "  <tbody>\n",
       "    <tr>\n",
       "      <th>count</th>\n",
       "      <td>30.000000</td>\n",
       "      <td>30.000000</td>\n",
       "    </tr>\n",
       "    <tr>\n",
       "      <th>mean</th>\n",
       "      <td>5.313333</td>\n",
       "      <td>76003.000000</td>\n",
       "    </tr>\n",
       "    <tr>\n",
       "      <th>std</th>\n",
       "      <td>2.837888</td>\n",
       "      <td>27414.429785</td>\n",
       "    </tr>\n",
       "    <tr>\n",
       "      <th>min</th>\n",
       "      <td>1.100000</td>\n",
       "      <td>37731.000000</td>\n",
       "    </tr>\n",
       "    <tr>\n",
       "      <th>25%</th>\n",
       "      <td>3.200000</td>\n",
       "      <td>56720.750000</td>\n",
       "    </tr>\n",
       "    <tr>\n",
       "      <th>50%</th>\n",
       "      <td>4.700000</td>\n",
       "      <td>65237.000000</td>\n",
       "    </tr>\n",
       "    <tr>\n",
       "      <th>75%</th>\n",
       "      <td>7.700000</td>\n",
       "      <td>100544.750000</td>\n",
       "    </tr>\n",
       "    <tr>\n",
       "      <th>max</th>\n",
       "      <td>10.500000</td>\n",
       "      <td>122391.000000</td>\n",
       "    </tr>\n",
       "  </tbody>\n",
       "</table>\n",
       "</div>"
      ],
      "text/plain": [
       "       YearsExperience         Salary\n",
       "count        30.000000      30.000000\n",
       "mean          5.313333   76003.000000\n",
       "std           2.837888   27414.429785\n",
       "min           1.100000   37731.000000\n",
       "25%           3.200000   56720.750000\n",
       "50%           4.700000   65237.000000\n",
       "75%           7.700000  100544.750000\n",
       "max          10.500000  122391.000000"
      ]
     },
     "execution_count": 33,
     "metadata": {},
     "output_type": "execute_result"
    }
   ],
   "source": [
    "# Descriptive statistics\n",
    "data.describe()"
   ]
  },
  {
   "cell_type": "markdown",
   "metadata": {},
   "source": [
    "The following boxplots tell in a glance how the data are distributed, it's possible to notice that 50% of the people considered have less than 5 years of experience, so there's a young core. As we may expect the salary is similarly distributed with highest tops corresponding to the most experienced workers."
   ]
  },
  {
   "cell_type": "code",
   "execution_count": 34,
   "metadata": {},
   "outputs": [
    {
     "data": {
      "text/plain": [
       "<AxesSubplot:ylabel='Salary'>"
      ]
     },
     "execution_count": 34,
     "metadata": {},
     "output_type": "execute_result"
    },
    {
     "data": {
      "image/png": "[encoded data removed]",
      "text/plain": [
       "<Figure size 432x288 with 2 Axes>"
      ]
     },
     "metadata": {
      "needs_background": "light"
     },
     "output_type": "display_data"
    }
   ],
   "source": [
    "#data.boxplot(column = \"YearsExperience\")\n",
    "fig, ax = plt.subplots(1, 2)\n",
    "fig.subplots_adjust(wspace=1)\n",
    "\n",
    "sns.boxplot(y = data[\"YearsExperience\"], color = \".55\", ax = ax[0])\n",
    "sns.swarmplot(y = data[\"YearsExperience\"], ax = ax[0])\n",
    "\n",
    "sns.boxplot(y = data[\"Salary\"], color = \".65\", ax = ax[1])\n",
    "sns.swarmplot(y = data[\"Salary\"], ax = ax[1])"
   ]
  },
  {
   "cell_type": "markdown",
   "metadata": {},
   "source": [
    "Now I'm going to compute the Pearson correlation in order to see how linked are the two variables:\n",
    "\n",
    "as it's easy to notice the variables are positively correlated, indeed we get a coefficient of 0.97 with a p-value way smaller than 0.05"
   ]
  },
  {
   "cell_type": "code",
   "execution_count": 35,
   "metadata": {},
   "outputs": [
    {
     "name": "stdout",
     "output_type": "stream",
     "text": [
      "Coeff = 0.9782416184887599, p-value = 1.1430681092271564e-20\n"
     ]
    }
   ],
   "source": [
    "res = stats.pearsonr(data[\"YearsExperience\"], data[\"Salary\"])\n",
    "print(f\"Coeff = {res[0]}, p-value = {res[1]}\")"
   ]
  },
  {
   "cell_type": "markdown",
   "metadata": {},
   "source": [
    "Before building the model, I'll make a Regression plot and a Residuals plot in order to visualize how good a linear Linear Regression can describe the relationship between the two variables.\n",
    "\n",
    "The regression line drawn with respect to the points in the feature space and the fact that the residuals are equally distributed along the x-axis suggests that a linear regression model will be doing pretty fine."
   ]
  },
  {
   "cell_type": "code",
   "execution_count": 36,
   "metadata": {},
   "outputs": [
    {
     "data": {
      "text/plain": [
       "<AxesSubplot:xlabel='YearsExperience', ylabel='Salary'>"
      ]
     },
     "execution_count": 36,
     "metadata": {},
     "output_type": "execute_result"
    },
    {
     "data": {
      "image/png": "[encoded data removed]",
      "text/plain": [
       "<Figure size 432x288 with 2 Axes>"
      ]
     },
     "metadata": {
      "needs_background": "light"
     },
     "output_type": "display_data"
    }
   ],
   "source": [
    "fig, ax = plt.subplots(1, 2)\n",
    "fig.subplots_adjust(wspace = .5)\n",
    "\n",
    "sns.regplot(x = \"YearsExperience\", y = \"Salary\", data = data, ax = ax[0])\n",
    "sns.residplot(x = data[\"YearsExperience\"], y = data[\"Salary\"])"
   ]
  },
  {
   "cell_type": "markdown",
   "metadata": {},
   "source": [
    "# Linear Regression model"
   ]
  },
  {
   "cell_type": "code",
   "execution_count": 38,
   "metadata": {},
   "outputs": [],
   "source": [
    "def rse(y_true, y_pred, degrees_freedom):\n",
    "    '''\n",
    "    This function computes the Residual Standard Error\n",
    "    of a given regression model output.\n",
    "    RSE = sqrt(residuals ^ 2 / degrees_of_freedom)\n",
    "    '''\n",
    "\n",
    "    residuals = y_true - y_pred\n",
    "    residuals = residuals.sum() ** 2\n",
    "\n",
    "    return np.sqrt(residuals / degrees_freedom)"
   ]
  },
  {
   "cell_type": "code",
   "execution_count": 43,
   "metadata": {},
   "outputs": [
    {
     "name": "stdout",
     "output_type": "stream",
     "text": [
      "Model created:\n",
      "Slope = [9590.70452459], Intercept = 24316.14088691237\n",
      "R-Squared = 0.9743020588630446\n",
      "RSE = 1090.0018565183548\n"
     ]
    }
   ],
   "source": [
    "train, test = train_test_split(data, test_size = 0.3, shuffle = True)\n",
    "train, validation = train_test_split(train, test_size = 0.2, shuffle = True)\n",
    "\n",
    "lm = LinearRegression()\n",
    "# Fit the model\n",
    "lm.fit(train[\"YearsExperience\"].to_numpy().reshape(-1, 1), train[\"Salary\"])\n",
    "# Predict and evaluate\n",
    "y_pred = lm.predict(test[\"YearsExperience\"].to_numpy().reshape(-1, 1))\n",
    "r_squared = r2_score(test[\"Salary\"], y_pred)\n",
    "RSE = rse(test[\"Salary\"],\n",
    "          y_pred,\n",
    "          test.shape[0] - 2)\n",
    "\n",
    "print(f\"Model created:\\nSlope = {lm.coef_}, Intercept = {lm.intercept_}\\nR-Squared = {r_squared}\\nRSE = {RSE}\")\n",
    "    "
   ]
  },
  {
   "cell_type": "markdown",
   "metadata": {},
   "source": [
    "Let's draw now a plot showing the differences between the True Values from the dataset and the ones predicted by the regression model obtained:"
   ]
  },
  {
   "cell_type": "code",
   "execution_count": 52,
   "metadata": {},
   "outputs": [
    {
     "data": {
      "image/png": "[encoded data removed]",
      "text/plain": [
       "<Figure size 432x288 with 1 Axes>"
      ]
     },
     "metadata": {
      "needs_background": "light"
     },
     "output_type": "display_data"
    }
   ],
   "source": [
    "fig, ax = plt.subplots(1, 1)\n",
    "s1 = ax.scatter(test[\"YearsExperience\"], test[\"Salary\"], color = \"blue\")\n",
    "s2 = ax.scatter(test[\"YearsExperience\"], y_pred, color = \"red\")\n",
    "ax.plot(test[\"YearsExperience\"], y_pred, color = \"red\")\n",
    "ax.set_xlabel(\"Years of Experience\")\n",
    "ax.set_ylabel(\"Salary\")\n",
    "ax.set_title(\"True values v. predictions\\n\")\n",
    "plt.legend([s1, s2], [\"True\", \"Predicted\"]);"
   ]
  }
 ],
 "metadata": {
  "interpreter": {
   "hash": "916dbcbb3f70747c44a77c7bcd40155683ae19c65e1c03b4aa3499c5328201f1"
  },
  "kernelspec": {
   "display_name": "Python 3.8.10 64-bit",
   "language": "python",
   "name": "python3"
  },
  "language_info": {
   "codemirror_mode": {
    "name": "ipython",
    "version": 3
   },
   "file_extension": ".py",
   "mimetype": "text/x-python",
   "name": "python",
   "nbconvert_exporter": "python",
   "pygments_lexer": "ipython3",
   "version": "3.8.10"
  },
  "orig_nbformat": 4
 },
 "nbformat": 4,
 "nbformat_minor": 2
}
